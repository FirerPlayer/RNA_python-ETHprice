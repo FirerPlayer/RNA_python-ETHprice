{
  "nbformat": 4,
  "nbformat_minor": 0,
  "metadata": {
    "colab": {
      "name": "eth price prediction with lstm",
      "provenance": [],
      "collapsed_sections": []
    },
    "kernelspec": {
      "display_name": "Python 3",
      "language": "python",
      "name": "python3"
    },
    "language_info": {
      "codemirror_mode": {
        "name": "ipython",
        "version": 3
      },
      "file_extension": ".py",
      "mimetype": "text/x-python",
      "name": "python",
      "nbconvert_exporter": "python",
      "pygments_lexer": "ipython3",
      "version": "3.6.9"
    }
  },
  "cells": [
    {
      "cell_type": "markdown",
      "metadata": {
        "id": "Si5dHMLO82GH"
      },
      "source": [
        "# ETH price prediction with LSTM neural network\n"
      ]
    },
    {
      "cell_type": "code",
      "metadata": {
        "id": "ddeiC4QY82GN"
      },
      "source": [
        "### Keras and Tensorflow >2.0"
      ],
      "execution_count": 56,
      "outputs": []
    },
    {
      "cell_type": "code",
      "metadata": {
        "id": "SlgiQTjW82GR"
      },
      "source": [
        "import pandas as pd\n",
        "import matplotlib.pyplot as plt"
      ],
      "execution_count": 57,
      "outputs": []
    },
    {
      "cell_type": "code",
      "metadata": {
        "id": "tQPBoGPc82GR"
      },
      "source": [
        "df=pd.read_csv('ETH-USD.csv')"
      ],
      "execution_count": 58,
      "outputs": []
    },
    {
      "cell_type": "code",
      "metadata": {
        "colab": {
          "base_uri": "https://localhost:8080/",
          "height": 424
        },
        "id": "fgo2AOyV82GS",
        "outputId": "3277d135-0ab1-479e-9784-9a7f4e68ddb5"
      },
      "source": [
        "df.drop(columns=['Adj Close','Volume'])"
      ],
      "execution_count": 59,
      "outputs": [
        {
          "output_type": "execute_result",
          "data": {
            "text/html": [
              "<div>\n",
              "<style scoped>\n",
              "    .dataframe tbody tr th:only-of-type {\n",
              "        vertical-align: middle;\n",
              "    }\n",
              "\n",
              "    .dataframe tbody tr th {\n",
              "        vertical-align: top;\n",
              "    }\n",
              "\n",
              "    .dataframe thead th {\n",
              "        text-align: right;\n",
              "    }\n",
              "</style>\n",
              "<table border=\"1\" class=\"dataframe\">\n",
              "  <thead>\n",
              "    <tr style=\"text-align: right;\">\n",
              "      <th></th>\n",
              "      <th>Date</th>\n",
              "      <th>Open</th>\n",
              "      <th>High</th>\n",
              "      <th>Low</th>\n",
              "      <th>Close</th>\n",
              "    </tr>\n",
              "  </thead>\n",
              "  <tbody>\n",
              "    <tr>\n",
              "      <th>0</th>\n",
              "      <td>2015-08-07</td>\n",
              "      <td>2.831620</td>\n",
              "      <td>3.536610</td>\n",
              "      <td>2.521120</td>\n",
              "      <td>2.772120</td>\n",
              "    </tr>\n",
              "    <tr>\n",
              "      <th>1</th>\n",
              "      <td>2015-08-08</td>\n",
              "      <td>2.793760</td>\n",
              "      <td>2.798810</td>\n",
              "      <td>0.714725</td>\n",
              "      <td>0.753325</td>\n",
              "    </tr>\n",
              "    <tr>\n",
              "      <th>2</th>\n",
              "      <td>2015-08-09</td>\n",
              "      <td>0.706136</td>\n",
              "      <td>0.879810</td>\n",
              "      <td>0.629191</td>\n",
              "      <td>0.701897</td>\n",
              "    </tr>\n",
              "    <tr>\n",
              "      <th>3</th>\n",
              "      <td>2015-08-10</td>\n",
              "      <td>0.713989</td>\n",
              "      <td>0.729854</td>\n",
              "      <td>0.636546</td>\n",
              "      <td>0.708448</td>\n",
              "    </tr>\n",
              "    <tr>\n",
              "      <th>4</th>\n",
              "      <td>2015-08-11</td>\n",
              "      <td>0.708087</td>\n",
              "      <td>1.131410</td>\n",
              "      <td>0.663235</td>\n",
              "      <td>1.067860</td>\n",
              "    </tr>\n",
              "    <tr>\n",
              "      <th>...</th>\n",
              "      <td>...</td>\n",
              "      <td>...</td>\n",
              "      <td>...</td>\n",
              "      <td>...</td>\n",
              "      <td>...</td>\n",
              "    </tr>\n",
              "    <tr>\n",
              "      <th>2176</th>\n",
              "      <td>2021-07-22</td>\n",
              "      <td>1994.822876</td>\n",
              "      <td>2044.116455</td>\n",
              "      <td>1954.297852</td>\n",
              "      <td>2025.202759</td>\n",
              "    </tr>\n",
              "    <tr>\n",
              "      <th>2177</th>\n",
              "      <td>2021-07-23</td>\n",
              "      <td>2025.105713</td>\n",
              "      <td>2129.441162</td>\n",
              "      <td>2000.436279</td>\n",
              "      <td>2124.776611</td>\n",
              "    </tr>\n",
              "    <tr>\n",
              "      <th>2178</th>\n",
              "      <td>2021-07-24</td>\n",
              "      <td>2123.961182</td>\n",
              "      <td>2197.649414</td>\n",
              "      <td>2107.323486</td>\n",
              "      <td>2189.218750</td>\n",
              "    </tr>\n",
              "    <tr>\n",
              "      <th>2179</th>\n",
              "      <td>2021-07-25</td>\n",
              "      <td>2187.145508</td>\n",
              "      <td>2194.438232</td>\n",
              "      <td>2108.829834</td>\n",
              "      <td>2191.373779</td>\n",
              "    </tr>\n",
              "    <tr>\n",
              "      <th>2180</th>\n",
              "      <td>2021-07-26</td>\n",
              "      <td>2177.329590</td>\n",
              "      <td>2384.400635</td>\n",
              "      <td>2177.329590</td>\n",
              "      <td>2340.090820</td>\n",
              "    </tr>\n",
              "  </tbody>\n",
              "</table>\n",
              "<p>2181 rows × 5 columns</p>\n",
              "</div>"
            ],
            "text/plain": [
              "            Date         Open         High          Low        Close\n",
              "0     2015-08-07     2.831620     3.536610     2.521120     2.772120\n",
              "1     2015-08-08     2.793760     2.798810     0.714725     0.753325\n",
              "2     2015-08-09     0.706136     0.879810     0.629191     0.701897\n",
              "3     2015-08-10     0.713989     0.729854     0.636546     0.708448\n",
              "4     2015-08-11     0.708087     1.131410     0.663235     1.067860\n",
              "...          ...          ...          ...          ...          ...\n",
              "2176  2021-07-22  1994.822876  2044.116455  1954.297852  2025.202759\n",
              "2177  2021-07-23  2025.105713  2129.441162  2000.436279  2124.776611\n",
              "2178  2021-07-24  2123.961182  2197.649414  2107.323486  2189.218750\n",
              "2179  2021-07-25  2187.145508  2194.438232  2108.829834  2191.373779\n",
              "2180  2021-07-26  2177.329590  2384.400635  2177.329590  2340.090820\n",
              "\n",
              "[2181 rows x 5 columns]"
            ]
          },
          "metadata": {},
          "execution_count": 59
        }
      ]
    },
    {
      "cell_type": "code",
      "metadata": {
        "colab": {
          "base_uri": "https://localhost:8080/",
          "height": 206
        },
        "id": "c6tPwSF-82GT",
        "outputId": "7de9109a-d552-40ce-d995-2fcd5e97a848"
      },
      "source": [
        "df.tail()"
      ],
      "execution_count": 60,
      "outputs": [
        {
          "output_type": "execute_result",
          "data": {
            "text/html": [
              "<div>\n",
              "<style scoped>\n",
              "    .dataframe tbody tr th:only-of-type {\n",
              "        vertical-align: middle;\n",
              "    }\n",
              "\n",
              "    .dataframe tbody tr th {\n",
              "        vertical-align: top;\n",
              "    }\n",
              "\n",
              "    .dataframe thead th {\n",
              "        text-align: right;\n",
              "    }\n",
              "</style>\n",
              "<table border=\"1\" class=\"dataframe\">\n",
              "  <thead>\n",
              "    <tr style=\"text-align: right;\">\n",
              "      <th></th>\n",
              "      <th>Date</th>\n",
              "      <th>Open</th>\n",
              "      <th>High</th>\n",
              "      <th>Low</th>\n",
              "      <th>Close</th>\n",
              "      <th>Adj Close</th>\n",
              "      <th>Volume</th>\n",
              "    </tr>\n",
              "  </thead>\n",
              "  <tbody>\n",
              "    <tr>\n",
              "      <th>2176</th>\n",
              "      <td>2021-07-22</td>\n",
              "      <td>1994.822876</td>\n",
              "      <td>2044.116455</td>\n",
              "      <td>1954.297852</td>\n",
              "      <td>2025.202759</td>\n",
              "      <td>2025.202759</td>\n",
              "      <td>1.749548e+10</td>\n",
              "    </tr>\n",
              "    <tr>\n",
              "      <th>2177</th>\n",
              "      <td>2021-07-23</td>\n",
              "      <td>2025.105713</td>\n",
              "      <td>2129.441162</td>\n",
              "      <td>2000.436279</td>\n",
              "      <td>2124.776611</td>\n",
              "      <td>2124.776611</td>\n",
              "      <td>1.620039e+10</td>\n",
              "    </tr>\n",
              "    <tr>\n",
              "      <th>2178</th>\n",
              "      <td>2021-07-24</td>\n",
              "      <td>2123.961182</td>\n",
              "      <td>2197.649414</td>\n",
              "      <td>2107.323486</td>\n",
              "      <td>2189.218750</td>\n",
              "      <td>2189.218750</td>\n",
              "      <td>1.605745e+10</td>\n",
              "    </tr>\n",
              "    <tr>\n",
              "      <th>2179</th>\n",
              "      <td>2021-07-25</td>\n",
              "      <td>2187.145508</td>\n",
              "      <td>2194.438232</td>\n",
              "      <td>2108.829834</td>\n",
              "      <td>2191.373779</td>\n",
              "      <td>2191.373779</td>\n",
              "      <td>1.456648e+10</td>\n",
              "    </tr>\n",
              "    <tr>\n",
              "      <th>2180</th>\n",
              "      <td>2021-07-26</td>\n",
              "      <td>2177.329590</td>\n",
              "      <td>2384.400635</td>\n",
              "      <td>2177.329590</td>\n",
              "      <td>2340.090820</td>\n",
              "      <td>2340.090820</td>\n",
              "      <td>2.389353e+10</td>\n",
              "    </tr>\n",
              "  </tbody>\n",
              "</table>\n",
              "</div>"
            ],
            "text/plain": [
              "            Date         Open  ...    Adj Close        Volume\n",
              "2176  2021-07-22  1994.822876  ...  2025.202759  1.749548e+10\n",
              "2177  2021-07-23  2025.105713  ...  2124.776611  1.620039e+10\n",
              "2178  2021-07-24  2123.961182  ...  2189.218750  1.605745e+10\n",
              "2179  2021-07-25  2187.145508  ...  2191.373779  1.456648e+10\n",
              "2180  2021-07-26  2177.329590  ...  2340.090820  2.389353e+10\n",
              "\n",
              "[5 rows x 7 columns]"
            ]
          },
          "metadata": {},
          "execution_count": 60
        }
      ]
    },
    {
      "cell_type": "code",
      "metadata": {
        "id": "UJHfxj6x82GU"
      },
      "source": [
        "df1=df.reset_index()['Close']"
      ],
      "execution_count": 61,
      "outputs": []
    },
    {
      "cell_type": "code",
      "metadata": {
        "colab": {
          "base_uri": "https://localhost:8080/"
        },
        "id": "eiO-XoyO82GW",
        "outputId": "99db114f-6ef8-4303-c04d-3ab770a0a752"
      },
      "source": [
        "df1"
      ],
      "execution_count": 62,
      "outputs": [
        {
          "output_type": "execute_result",
          "data": {
            "text/plain": [
              "0          2.772120\n",
              "1          0.753325\n",
              "2          0.701897\n",
              "3          0.708448\n",
              "4          1.067860\n",
              "           ...     \n",
              "2176    2025.202759\n",
              "2177    2124.776611\n",
              "2178    2189.218750\n",
              "2179    2191.373779\n",
              "2180    2340.090820\n",
              "Name: Close, Length: 2181, dtype: float64"
            ]
          },
          "metadata": {},
          "execution_count": 62
        }
      ]
    },
    {
      "cell_type": "code",
      "metadata": {
        "colab": {
          "base_uri": "https://localhost:8080/",
          "height": 597
        },
        "id": "G99nQPnN82GZ",
        "outputId": "0b00a103-9b25-4b94-c076-e49ceeb76f30"
      },
      "source": [
        "plt.figure(figsize = (18,9))\n",
        "plt.plot(range(df.shape[0]),df['Close'])\n",
        "plt.xticks(range(0,df.shape[0],500),df['Date'].loc[::500],rotation=45)\n",
        "plt.xlabel('Date',fontsize=18)\n",
        "plt.ylabel('Fechamento',fontsize=18)\n",
        "plt.show()"
      ],
      "execution_count": 63,
      "outputs": [
        {
          "output_type": "display_data",
          "data": {
            "image/png": "[encoded data removed]",
            "text/plain": [
              "<Figure size 1296x648 with 1 Axes>"
            ]
          },
          "metadata": {
            "needs_background": "light"
          }
        }
      ]
    },
    {
      "cell_type": "code",
      "metadata": {
        "id": "wSa7D3fn82Gb"
      },
      "source": [
        "### LSTM are sensitive to the scale of the data. so we apply MinMax scaler "
      ],
      "execution_count": 64,
      "outputs": []
    },
    {
      "cell_type": "code",
      "metadata": {
        "id": "Ebjn5pmr82Gc"
      },
      "source": [
        "import numpy as np"
      ],
      "execution_count": 65,
      "outputs": []
    },
    {
      "cell_type": "code",
      "metadata": {
        "colab": {
          "base_uri": "https://localhost:8080/"
        },
        "id": "_Kr2Yg1h82Gc",
        "outputId": "b3344899-c0e2-46b2-cda7-27a471179745"
      },
      "source": [
        "df1   # ETH/USD close price"
      ],
      "execution_count": 66,
      "outputs": [
        {
          "output_type": "execute_result",
          "data": {
            "text/plain": [
              "0          2.772120\n",
              "1          0.753325\n",
              "2          0.701897\n",
              "3          0.708448\n",
              "4          1.067860\n",
              "           ...     \n",
              "2176    2025.202759\n",
              "2177    2124.776611\n",
              "2178    2189.218750\n",
              "2179    2191.373779\n",
              "2180    2340.090820\n",
              "Name: Close, Length: 2181, dtype: float64"
            ]
          },
          "metadata": {},
          "execution_count": 66
        }
      ]
    },
    {
      "cell_type": "code",
      "metadata": {
        "id": "CLBIYOdB82Gd"
      },
      "source": [
        "from sklearn.preprocessing import MinMaxScaler\n",
        "scaler=MinMaxScaler(feature_range=(0,1))\n",
        "df1=scaler.fit_transform(np.array(df1).reshape(-1,1))"
      ],
      "execution_count": 67,
      "outputs": []
    },
    {
      "cell_type": "code",
      "metadata": {
        "colab": {
          "base_uri": "https://localhost:8080/"
        },
        "id": "BgrNllIe82Gd",
        "outputId": "0ee91fac-4176-49d5-d13d-e7f616204e9f"
      },
      "source": [
        "print(df1)  # ETH/USD close price normalized"
      ],
      "execution_count": 68,
      "outputs": [
        {
          "output_type": "stream",
          "name": "stdout",
          "text": [
            "[[5.60734561e-04]\n",
            " [7.64097046e-05]\n",
            " [6.40717214e-05]\n",
            " ...\n",
            " [5.25106541e-01]\n",
            " [5.25623549e-01]\n",
            " [5.61301941e-01]]\n"
          ]
        }
      ]
    },
    {
      "cell_type": "code",
      "metadata": {
        "id": "wnng-8vk82Ge"
      },
      "source": [
        "# splitting dataset into train and test data\n",
        "training_size=int(len(df1)*0.60)\n",
        "test_size=len(df1)-training_size\n",
        "train_data,test_data=df1[0:training_size,:],df1[training_size:len(df1),:1]"
      ],
      "execution_count": 69,
      "outputs": []
    },
    {
      "cell_type": "code",
      "metadata": {
        "colab": {
          "base_uri": "https://localhost:8080/"
        },
        "id": "iKVrJPCo82Gf",
        "outputId": "306f99f4-9c9e-42a7-cc2a-cb9fdebda30b"
      },
      "source": [
        "training_size,test_size   # shows the size of each group of data"
      ],
      "execution_count": 70,
      "outputs": [
        {
          "output_type": "execute_result",
          "data": {
            "text/plain": [
              "(1308, 873)"
            ]
          },
          "metadata": {},
          "execution_count": 70
        }
      ]
    },
    {
      "cell_type": "code",
      "metadata": {
        "colab": {
          "base_uri": "https://localhost:8080/"
        },
        "id": "XXxJSOQ082Gf",
        "outputId": "3bcfdc40-1eca-45f2-b10a-709473002cfd"
      },
      "source": [
        "train_data"
      ],
      "execution_count": 71,
      "outputs": [
        {
          "output_type": "execute_result",
          "data": {
            "text/plain": [
              "array([[5.60734561e-04],\n",
              "       [7.64097046e-05],\n",
              "       [6.40717214e-05],\n",
              "       ...,\n",
              "       [3.05497021e-02],\n",
              "       [3.29603599e-02],\n",
              "       [3.31923422e-02]])"
            ]
          },
          "metadata": {},
          "execution_count": 71
        }
      ]
    },
    {
      "cell_type": "code",
      "metadata": {
        "id": "333wXqKp82Gg"
      },
      "source": [
        "import numpy\n",
        "# convert an array of values into a dataset matrix\n",
        "def create_dataset(dataset, time_step=1):\n",
        "\tdataX, dataY = [], []\n",
        "\tfor i in range(len(dataset)-time_step-1):\n",
        "\t\ta = dataset[i:(i+time_step), 0]   ###i=0, 0,1,2,3-----99   100 \n",
        "\t\tdataX.append(a)\n",
        "\t\tdataY.append(dataset[i + time_step, 0])\n",
        "\treturn numpy.array(dataX), numpy.array(dataY)"
      ],
      "execution_count": 72,
      "outputs": []
    },
    {
      "cell_type": "code",
      "metadata": {
        "id": "-Z6EdhQL82Gh"
      },
      "source": [
        "# reshape into X=t,t+1,t+2,t+3 and Y=t+4\n",
        "time_step = 100\n",
        "X_train, y_train = create_dataset(train_data, time_step)\n",
        "X_test, ytest = create_dataset(test_data, time_step)"
      ],
      "execution_count": 73,
      "outputs": []
    },
    {
      "cell_type": "code",
      "metadata": {
        "colab": {
          "base_uri": "https://localhost:8080/"
        },
        "id": "0NlD8goY82Gi",
        "outputId": "946ecd4c-0836-4c66-cf3c-744e1f9aea4e"
      },
      "source": [
        "print(X_train.shape), print(y_train.shape)"
      ],
      "execution_count": 74,
      "outputs": [
        {
          "output_type": "stream",
          "name": "stdout",
          "text": [
            "(1207, 100)\n",
            "(1207,)\n"
          ]
        },
        {
          "output_type": "execute_result",
          "data": {
            "text/plain": [
              "(None, None)"
            ]
          },
          "metadata": {},
          "execution_count": 74
        }
      ]
    },
    {
      "cell_type": "code",
      "metadata": {
        "colab": {
          "base_uri": "https://localhost:8080/"
        },
        "id": "hqf350qN82Gi",
        "outputId": "ecb05e26-1775-4921-e5d5-b62835e17850"
      },
      "source": [
        "print(X_test.shape), print(ytest.shape)"
      ],
      "execution_count": 75,
      "outputs": [
        {
          "output_type": "stream",
          "name": "stdout",
          "text": [
            "(772, 100)\n",
            "(772,)\n"
          ]
        },
        {
          "output_type": "execute_result",
          "data": {
            "text/plain": [
              "(None, None)"
            ]
          },
          "metadata": {},
          "execution_count": 75
        }
      ]
    },
    {
      "cell_type": "code",
      "metadata": {
        "id": "Z_97vfau82Gj"
      },
      "source": [
        "# reshape input to be [samples, time steps, features] which is required for LSTM\n",
        "X_train =X_train.reshape(X_train.shape[0],X_train.shape[1] , 1)\n",
        "X_test = X_test.reshape(X_test.shape[0],X_test.shape[1] , 1)"
      ],
      "execution_count": 76,
      "outputs": []
    },
    {
      "cell_type": "code",
      "metadata": {
        "id": "T9yytfUo82Gj"
      },
      "source": [
        "### Create the Stacked LSTM model\n",
        "from tensorflow.keras.models import Sequential\n",
        "from tensorflow.keras.layers import Dense\n",
        "from tensorflow.keras.layers import LSTM"
      ],
      "execution_count": 77,
      "outputs": []
    },
    {
      "cell_type": "code",
      "metadata": {
        "id": "M_6fDXcZ82Gj"
      },
      "source": [
        "model=Sequential()\n",
        "model.add(LSTM(50,return_sequences=True,input_shape=(100,1)))\n",
        "model.add(LSTM(50,return_sequences=True))\n",
        "model.add(LSTM(50))\n",
        "model.add(Dense(1))\n",
        "model.compile(loss='mean_squared_error',optimizer='adam')\n"
      ],
      "execution_count": 78,
      "outputs": []
    },
    {
      "cell_type": "code",
      "metadata": {
        "colab": {
          "base_uri": "https://localhost:8080/"
        },
        "id": "tcPTW0Cl82Gj",
        "outputId": "0e1512b6-8f8d-4f8b-edc2-c95e65ea6713"
      },
      "source": [
        "model.summary() # show the LSTM network structure"
      ],
      "execution_count": 79,
      "outputs": [
        {
          "output_type": "stream",
          "name": "stdout",
          "text": [
            "Model: \"sequential\"\n",
            "_________________________________________________________________\n",
            " Layer (type)                Output Shape              Param #   \n",
            "=================================================================\n",
            " lstm (LSTM)                 (None, 100, 50)           10400     \n",
            "                                                                 \n",
            " lstm_1 (LSTM)               (None, 100, 50)           20200     \n",
            "                                                                 \n",
            " lstm_2 (LSTM)               (None, 50)                20200     \n",
            "                                                                 \n",
            " dense (Dense)               (None, 1)                 51        \n",
            "                                                                 \n",
            "=================================================================\n",
            "Total params: 50,851\n",
            "Trainable params: 50,851\n",
            "Non-trainable params: 0\n",
            "_________________________________________________________________\n"
          ]
        }
      ]
    },
    {
      "cell_type": "code",
      "metadata": {
        "colab": {
          "base_uri": "https://localhost:8080/"
        },
        "id": "AzuV8wH682Gk",
        "outputId": "60b307d7-66f6-4d88-94d1-8c0f9496a7d7"
      },
      "source": [
        "metadata = model.fit(X_train,y_train,validation_data=(X_test,ytest),epochs=100,batch_size=64,verbose=1)"
      ],
      "execution_count": 80,
      "outputs": [
        {
          "output_type": "stream",
          "name": "stdout",
          "text": [
            "Epoch 1/100\n",
            "19/19 [==============================] - 11s 287ms/step - loss: 0.0014 - val_loss: nan\n",
            "Epoch 2/100\n",
            "19/19 [==============================] - 4s 216ms/step - loss: 3.3614e-04 - val_loss: nan\n",
            "Epoch 3/100\n",
            "19/19 [==============================] - 4s 216ms/step - loss: 2.5602e-04 - val_loss: nan\n",
            "Epoch 4/100\n",
            "19/19 [==============================] - 4s 214ms/step - loss: 2.2212e-04 - val_loss: nan\n",
            "Epoch 5/100\n",
            "19/19 [==============================] - 4s 215ms/step - loss: 2.2421e-04 - val_loss: nan\n",
            "Epoch 6/100\n",
            "19/19 [==============================] - 4s 217ms/step - loss: 2.1056e-04 - val_loss: nan\n",
            "Epoch 7/100\n",
            "19/19 [==============================] - 4s 216ms/step - loss: 2.1683e-04 - val_loss: nan\n",
            "Epoch 8/100\n",
            "19/19 [==============================] - 4s 213ms/step - loss: 1.7384e-04 - val_loss: nan\n",
            "Epoch 9/100\n",
            "19/19 [==============================] - 4s 217ms/step - loss: 1.7442e-04 - val_loss: nan\n",
            "Epoch 10/100\n",
            "19/19 [==============================] - 4s 217ms/step - loss: 1.7875e-04 - val_loss: nan\n",
            "Epoch 11/100\n",
            "19/19 [==============================] - 4s 219ms/step - loss: 1.7649e-04 - val_loss: nan\n",
            "Epoch 12/100\n",
            "19/19 [==============================] - 4s 219ms/step - loss: 1.5989e-04 - val_loss: nan\n",
            "Epoch 13/100\n",
            "19/19 [==============================] - 4s 220ms/step - loss: 1.6080e-04 - val_loss: nan\n",
            "Epoch 14/100\n",
            "19/19 [==============================] - 4s 216ms/step - loss: 1.4756e-04 - val_loss: nan\n",
            "Epoch 15/100\n",
            "19/19 [==============================] - 4s 215ms/step - loss: 1.4069e-04 - val_loss: nan\n",
            "Epoch 16/100\n",
            "19/19 [==============================] - 4s 213ms/step - loss: 1.4272e-04 - val_loss: nan\n",
            "Epoch 17/100\n",
            "19/19 [==============================] - 4s 214ms/step - loss: 1.3540e-04 - val_loss: nan\n",
            "Epoch 18/100\n",
            "19/19 [==============================] - 4s 215ms/step - loss: 1.4128e-04 - val_loss: nan\n",
            "Epoch 19/100\n",
            "19/19 [==============================] - 4s 215ms/step - loss: 1.5838e-04 - val_loss: nan\n",
            "Epoch 20/100\n",
            "19/19 [==============================] - 4s 214ms/step - loss: 1.6169e-04 - val_loss: nan\n",
            "Epoch 21/100\n",
            "19/19 [==============================] - 4s 212ms/step - loss: 1.3776e-04 - val_loss: nan\n",
            "Epoch 22/100\n",
            "19/19 [==============================] - 4s 214ms/step - loss: 1.3161e-04 - val_loss: nan\n",
            "Epoch 23/100\n",
            "19/19 [==============================] - 4s 213ms/step - loss: 1.3505e-04 - val_loss: nan\n",
            "Epoch 24/100\n",
            "19/19 [==============================] - 4s 213ms/step - loss: 1.2116e-04 - val_loss: nan\n",
            "Epoch 25/100\n",
            "19/19 [==============================] - 4s 215ms/step - loss: 1.2187e-04 - val_loss: nan\n",
            "Epoch 26/100\n",
            "19/19 [==============================] - 4s 217ms/step - loss: 1.2835e-04 - val_loss: nan\n",
            "Epoch 27/100\n",
            "19/19 [==============================] - 4s 216ms/step - loss: 1.3023e-04 - val_loss: nan\n",
            "Epoch 28/100\n",
            "19/19 [==============================] - 4s 213ms/step - loss: 1.2118e-04 - val_loss: nan\n",
            "Epoch 29/100\n",
            "19/19 [==============================] - 4s 214ms/step - loss: 1.0697e-04 - val_loss: nan\n",
            "Epoch 30/100\n",
            "19/19 [==============================] - 4s 217ms/step - loss: 9.7243e-05 - val_loss: nan\n",
            "Epoch 31/100\n",
            "19/19 [==============================] - 4s 212ms/step - loss: 9.4425e-05 - val_loss: nan\n",
            "Epoch 32/100\n",
            "19/19 [==============================] - 4s 214ms/step - loss: 9.4701e-05 - val_loss: nan\n",
            "Epoch 33/100\n",
            "19/19 [==============================] - 4s 213ms/step - loss: 1.0079e-04 - val_loss: nan\n",
            "Epoch 34/100\n",
            "19/19 [==============================] - 4s 212ms/step - loss: 9.5624e-05 - val_loss: nan\n",
            "Epoch 35/100\n",
            "19/19 [==============================] - 4s 217ms/step - loss: 8.2713e-05 - val_loss: nan\n",
            "Epoch 36/100\n",
            "19/19 [==============================] - 4s 217ms/step - loss: 8.0975e-05 - val_loss: nan\n",
            "Epoch 37/100\n",
            "19/19 [==============================] - 4s 216ms/step - loss: 8.2826e-05 - val_loss: nan\n",
            "Epoch 38/100\n",
            "19/19 [==============================] - 4s 216ms/step - loss: 7.6999e-05 - val_loss: nan\n",
            "Epoch 39/100\n",
            "19/19 [==============================] - 4s 216ms/step - loss: 6.9610e-05 - val_loss: nan\n",
            "Epoch 40/100\n",
            "19/19 [==============================] - 4s 216ms/step - loss: 7.0849e-05 - val_loss: nan\n",
            "Epoch 41/100\n",
            "19/19 [==============================] - 4s 214ms/step - loss: 6.3250e-05 - val_loss: nan\n",
            "Epoch 42/100\n",
            "19/19 [==============================] - 4s 215ms/step - loss: 8.0101e-05 - val_loss: nan\n",
            "Epoch 43/100\n",
            "19/19 [==============================] - 4s 217ms/step - loss: 6.6702e-05 - val_loss: nan\n",
            "Epoch 44/100\n",
            "19/19 [==============================] - 4s 214ms/step - loss: 6.1913e-05 - val_loss: nan\n",
            "Epoch 45/100\n",
            "19/19 [==============================] - 4s 217ms/step - loss: 5.7763e-05 - val_loss: nan\n",
            "Epoch 46/100\n",
            "19/19 [==============================] - 4s 215ms/step - loss: 5.7238e-05 - val_loss: nan\n",
            "Epoch 47/100\n",
            "19/19 [==============================] - 4s 217ms/step - loss: 5.7808e-05 - val_loss: nan\n",
            "Epoch 48/100\n",
            "19/19 [==============================] - 4s 217ms/step - loss: 5.5260e-05 - val_loss: nan\n",
            "Epoch 49/100\n",
            "19/19 [==============================] - 4s 217ms/step - loss: 5.6129e-05 - val_loss: nan\n",
            "Epoch 50/100\n",
            "19/19 [==============================] - 4s 217ms/step - loss: 5.6310e-05 - val_loss: nan\n",
            "Epoch 51/100\n",
            "19/19 [==============================] - 4s 215ms/step - loss: 5.3890e-05 - val_loss: nan\n",
            "Epoch 52/100\n",
            "19/19 [==============================] - 4s 212ms/step - loss: 5.5146e-05 - val_loss: nan\n",
            "Epoch 53/100\n",
            "19/19 [==============================] - 4s 215ms/step - loss: 5.9403e-05 - val_loss: nan\n",
            "Epoch 54/100\n",
            "19/19 [==============================] - 4s 213ms/step - loss: 5.8150e-05 - val_loss: nan\n",
            "Epoch 55/100\n",
            "19/19 [==============================] - 4s 213ms/step - loss: 6.6734e-05 - val_loss: nan\n",
            "Epoch 56/100\n",
            "19/19 [==============================] - 4s 213ms/step - loss: 6.7646e-05 - val_loss: nan\n",
            "Epoch 57/100\n",
            "19/19 [==============================] - 4s 216ms/step - loss: 5.6747e-05 - val_loss: nan\n",
            "Epoch 58/100\n",
            "19/19 [==============================] - 4s 217ms/step - loss: 5.4051e-05 - val_loss: nan\n",
            "Epoch 59/100\n",
            "19/19 [==============================] - 4s 217ms/step - loss: 5.3921e-05 - val_loss: nan\n",
            "Epoch 60/100\n",
            "19/19 [==============================] - 4s 213ms/step - loss: 6.0255e-05 - val_loss: nan\n",
            "Epoch 61/100\n",
            "19/19 [==============================] - 4s 219ms/step - loss: 5.9709e-05 - val_loss: nan\n",
            "Epoch 62/100\n",
            "19/19 [==============================] - 4s 211ms/step - loss: 5.2002e-05 - val_loss: nan\n",
            "Epoch 63/100\n",
            "19/19 [==============================] - 4s 215ms/step - loss: 5.5421e-05 - val_loss: nan\n",
            "Epoch 64/100\n",
            "19/19 [==============================] - 4s 212ms/step - loss: 6.1823e-05 - val_loss: nan\n",
            "Epoch 65/100\n",
            "19/19 [==============================] - 4s 215ms/step - loss: 5.7551e-05 - val_loss: nan\n",
            "Epoch 66/100\n",
            "19/19 [==============================] - 4s 218ms/step - loss: 5.4841e-05 - val_loss: nan\n",
            "Epoch 67/100\n",
            "19/19 [==============================] - 4s 217ms/step - loss: 5.5967e-05 - val_loss: nan\n",
            "Epoch 68/100\n",
            "19/19 [==============================] - 4s 216ms/step - loss: 5.8553e-05 - val_loss: nan\n",
            "Epoch 69/100\n",
            "19/19 [==============================] - 4s 216ms/step - loss: 5.5851e-05 - val_loss: nan\n",
            "Epoch 70/100\n",
            "19/19 [==============================] - 4s 213ms/step - loss: 6.1456e-05 - val_loss: nan\n",
            "Epoch 71/100\n",
            "19/19 [==============================] - 4s 213ms/step - loss: 5.9365e-05 - val_loss: nan\n",
            "Epoch 72/100\n",
            "19/19 [==============================] - 4s 215ms/step - loss: 4.9754e-05 - val_loss: nan\n",
            "Epoch 73/100\n",
            "19/19 [==============================] - 4s 215ms/step - loss: 5.3300e-05 - val_loss: nan\n",
            "Epoch 74/100\n",
            "19/19 [==============================] - 4s 218ms/step - loss: 5.6370e-05 - val_loss: nan\n",
            "Epoch 75/100\n",
            "19/19 [==============================] - 4s 214ms/step - loss: 5.1556e-05 - val_loss: nan\n",
            "Epoch 76/100\n",
            "19/19 [==============================] - 4s 216ms/step - loss: 5.5389e-05 - val_loss: nan\n",
            "Epoch 77/100\n",
            "19/19 [==============================] - 4s 215ms/step - loss: 4.9661e-05 - val_loss: nan\n",
            "Epoch 78/100\n",
            "19/19 [==============================] - 4s 214ms/step - loss: 5.3223e-05 - val_loss: nan\n",
            "Epoch 79/100\n",
            "19/19 [==============================] - 4s 218ms/step - loss: 5.2355e-05 - val_loss: nan\n",
            "Epoch 80/100\n",
            "19/19 [==============================] - 4s 218ms/step - loss: 4.8078e-05 - val_loss: nan\n",
            "Epoch 81/100\n",
            "19/19 [==============================] - 4s 213ms/step - loss: 4.6137e-05 - val_loss: nan\n",
            "Epoch 82/100\n",
            "19/19 [==============================] - 4s 214ms/step - loss: 4.5928e-05 - val_loss: nan\n",
            "Epoch 83/100\n",
            "19/19 [==============================] - 4s 218ms/step - loss: 4.8888e-05 - val_loss: nan\n",
            "Epoch 84/100\n",
            "19/19 [==============================] - 4s 220ms/step - loss: 4.5998e-05 - val_loss: nan\n",
            "Epoch 85/100\n",
            "19/19 [==============================] - 4s 219ms/step - loss: 4.5792e-05 - val_loss: nan\n",
            "Epoch 86/100\n",
            "19/19 [==============================] - 4s 219ms/step - loss: 5.6906e-05 - val_loss: nan\n",
            "Epoch 87/100\n",
            "19/19 [==============================] - 4s 223ms/step - loss: 4.8151e-05 - val_loss: nan\n",
            "Epoch 88/100\n",
            "19/19 [==============================] - 4s 220ms/step - loss: 4.5978e-05 - val_loss: nan\n",
            "Epoch 89/100\n",
            "19/19 [==============================] - 4s 222ms/step - loss: 4.5344e-05 - val_loss: nan\n",
            "Epoch 90/100\n",
            "19/19 [==============================] - 4s 217ms/step - loss: 5.7968e-05 - val_loss: nan\n",
            "Epoch 91/100\n",
            "19/19 [==============================] - 4s 222ms/step - loss: 5.2131e-05 - val_loss: nan\n",
            "Epoch 92/100\n",
            "19/19 [==============================] - 4s 220ms/step - loss: 4.8290e-05 - val_loss: nan\n",
            "Epoch 93/100\n",
            "19/19 [==============================] - 4s 219ms/step - loss: 4.3460e-05 - val_loss: nan\n",
            "Epoch 94/100\n",
            "19/19 [==============================] - 4s 221ms/step - loss: 4.5273e-05 - val_loss: nan\n",
            "Epoch 95/100\n",
            "19/19 [==============================] - 4s 219ms/step - loss: 4.3063e-05 - val_loss: nan\n",
            "Epoch 96/100\n",
            "19/19 [==============================] - 4s 218ms/step - loss: 4.5198e-05 - val_loss: nan\n",
            "Epoch 97/100\n",
            "19/19 [==============================] - 4s 218ms/step - loss: 4.7648e-05 - val_loss: nan\n",
            "Epoch 98/100\n",
            "19/19 [==============================] - 4s 217ms/step - loss: 5.0901e-05 - val_loss: nan\n",
            "Epoch 99/100\n",
            "19/19 [==============================] - 4s 218ms/step - loss: 4.1803e-05 - val_loss: nan\n",
            "Epoch 100/100\n",
            "19/19 [==============================] - 4s 215ms/step - loss: 4.4192e-05 - val_loss: nan\n"
          ]
        }
      ]
    },
    {
      "cell_type": "code",
      "metadata": {
        "colab": {
          "base_uri": "https://localhost:8080/",
          "height": 594
        },
        "id": "ERg_v9qg82Gk",
        "outputId": "2f2d818c-4fbd-45bf-d670-422e615e86ed"
      },
      "source": [
        "# list all data in history\n",
        "print(metadata.history.keys())\n",
        "\n",
        "# summarize history for loss\n",
        "plt.figure(figsize=(18,9))\n",
        "plt.plot(metadata.history['loss'])\n",
        "plt.plot(metadata.history['val_loss'])\n",
        "plt.title('Erro ao longo das iterações', fontsize=20)\n",
        "plt.ylabel('Erro', fontsize=16)\n",
        "plt.xlabel('Iterações', fontsize=16)\n",
        "plt.show()"
      ],
      "execution_count": 81,
      "outputs": [
        {
          "output_type": "stream",
          "name": "stdout",
          "text": [
            "dict_keys(['loss', 'val_loss'])\n"
          ]
        },
        {
          "output_type": "display_data",
          "data": {
            "image/png": "[encoded data removed]",
            "text/plain": [
              "<Figure size 1296x648 with 1 Axes>"
            ]
          },
          "metadata": {
            "needs_background": "light"
          }
        }
      ]
    },
    {
      "cell_type": "code",
      "metadata": {
        "id": "5EfzqJwG82Gk"
      },
      "source": [
        "import tensorflow as tf"
      ],
      "execution_count": 82,
      "outputs": []
    },
    {
      "cell_type": "code",
      "metadata": {
        "id": "a3pay2Yw82Gk"
      },
      "source": [
        "### Lets Do the prediction and check performance metrics\n",
        "train_predict=model.predict(X_train)\n",
        "test_predict=model.predict(X_test)"
      ],
      "execution_count": 83,
      "outputs": []
    },
    {
      "cell_type": "code",
      "metadata": {
        "id": "-tvztm-a82Gk"
      },
      "source": [
        "##Transformback to original form\n",
        "train_predict=scaler.inverse_transform(train_predict)\n",
        "test_predict=scaler.inverse_transform(test_predict)"
      ],
      "execution_count": 84,
      "outputs": []
    },
    {
      "cell_type": "code",
      "metadata": {
        "id": "Sj3QZhlp82Gl",
        "colab": {
          "base_uri": "https://localhost:8080/"
        },
        "outputId": "340eaa60-76ba-490c-d92d-666a7df6e341"
      },
      "source": [
        "### Calculate RMSE performance metrics\n",
        "import math\n",
        "from sklearn.metrics import mean_squared_error\n",
        "math.sqrt(mean_squared_error(y_train,train_predict))"
      ],
      "execution_count": 85,
      "outputs": [
        {
          "output_type": "execute_result",
          "data": {
            "text/plain": [
              "341.74621874573035"
            ]
          },
          "metadata": {},
          "execution_count": 85
        }
      ]
    },
    {
      "cell_type": "code",
      "metadata": {
        "id": "bTHju52Y82Gn",
        "colab": {
          "base_uri": "https://localhost:8080/",
          "height": 577
        },
        "outputId": "4be41404-b54d-4bbe-89a6-b138d72a8ab0"
      },
      "source": [
        "### Plotting \n",
        "# shift train predictions for plotting\n",
        "look_back=100\n",
        "trainPredictPlot = numpy.empty_like(df1)\n",
        "trainPredictPlot[:, :] = np.nan\n",
        "trainPredictPlot[look_back:len(train_predict)+look_back, :] = train_predict\n",
        "# shift test predictions for plotting\n",
        "testPredictPlot = numpy.empty_like(df1)\n",
        "testPredictPlot[:, :] = numpy.nan\n",
        "testPredictPlot[len(train_predict)+(look_back*2)+1:len(df1)-1, :] = test_predict\n",
        "# plot baseline and predictions\n",
        "plt.figure(figsize=(18,9))\n",
        "plt.title('Preço de fechamente vs Tempo', fontsize=20)\n",
        "plt.plot(scaler.inverse_transform(df1))\n",
        "plt.plot(trainPredictPlot, label='treino')\n",
        "plt.plot(testPredictPlot, label='teste')\n",
        "plt.xlabel('Time', fontsize=16)\n",
        "plt.ylabel('Close price', fontsize=16)\n",
        "plt.legend(fontsize=16)\n",
        "\n",
        "plt.show()"
      ],
      "execution_count": 86,
      "outputs": [
        {
          "output_type": "display_data",
          "data": {
            "image/png": "[encoded data removed]",
            "text/plain": [
              "<Figure size 1296x648 with 1 Axes>"
            ]
          },
          "metadata": {
            "needs_background": "light"
          }
        }
      ]
    }
  ]
}